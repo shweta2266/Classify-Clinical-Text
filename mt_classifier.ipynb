{
 "cells": [
  {
   "cell_type": "markdown",
   "metadata": {
    "id": "qGEzVyampyQv"
   },
   "source": [
    "# Clinical Text Classification"
   ]
  },
  {
   "cell_type": "code",
   "execution_count": null,
   "metadata": {
    "colab": {
     "base_uri": "https://localhost:8080/"
    },
    "id": "upW81GiFJgzN",
    "outputId": "e931fcda-890b-4d4a-f2f6-8ec8fe928ba3"
   },
   "outputs": [],
   "source": [
    "from google.colab import drive\n",
    "drive.mount('/content/gdrive')"
   ]
  },
  {
   "cell_type": "code",
   "execution_count": null,
   "metadata": {
    "id": "3JX1PlTR3Tpb"
   },
   "outputs": [],
   "source": [
    "## path to the data\n",
    "train_path = '/content/gdrive/My Drive/mtsamples.csv'"
   ]
  },
  {
   "cell_type": "code",
   "execution_count": null,
   "metadata": {
    "colab": {
     "base_uri": "https://localhost:8080/"
    },
    "id": "3lzS7ajm3a0v",
    "outputId": "09c44f05-f519-40da-bafa-615f4271911f"
   },
   "outputs": [],
   "source": [
    "# install required libraries\n",
    "!pip install nlpaug"
   ]
  },
  {
   "cell_type": "code",
   "execution_count": null,
   "metadata": {
    "colab": {
     "base_uri": "https://localhost:8080/"
    },
    "id": "vNqj8fhzH4lH",
    "outputId": "98d75563-d444-4ba9-febf-3fe8d94eaebc"
   },
   "outputs": [],
   "source": [
    "## Checking the gpu device\n",
    "import tensorflow as tf\n",
    "device_name = tf.test.gpu_device_name()\n",
    "if device_name != '/device:GPU:0':\n",
    "  raise SystemError('GPU device not found')\n",
    "print('Found GPU at: {}'.format(device_name))"
   ]
  },
  {
   "cell_type": "markdown",
   "metadata": {},
   "source": [
    "## Import libraries"
   ]
  },
  {
   "cell_type": "code",
   "execution_count": null,
   "metadata": {
    "colab": {
     "base_uri": "https://localhost:8080/"
    },
    "id": "dZ9JPUHb35i8",
    "outputId": "948128a1-27aa-4cdb-b53a-d93ae3283741"
   },
   "outputs": [],
   "source": [
    "import pandas as pd\n",
    "import numpy as np\n",
    "import nltk\n",
    "from nltk.corpus import wordnet\n",
    "nltk.download('wordnet')\n",
    "\n",
    "#plot\n",
    "import matplotlib.pyplot as plt\n",
    "import seaborn as sns\n",
    "\n",
    "import nlpaug.augmenter.char as nac\n",
    "import nlpaug.augmenter.word as naw\n",
    "import nlpaug.augmenter.sentence as nas\n",
    "import nlpaug.flow as naf\n",
    "\n",
    "from nlpaug.util import Action"
   ]
  },
  {
   "cell_type": "markdown",
   "metadata": {},
   "source": [
    "## Data loading and pre-processing"
   ]
  },
  {
   "cell_type": "code",
   "execution_count": null,
   "metadata": {
    "id": "kcbOB53A4LG_"
   },
   "outputs": [],
   "source": [
    "medical_data = pd.read_csv(train_path, index_col=0)"
   ]
  },
  {
   "cell_type": "code",
   "execution_count": null,
   "metadata": {
    "colab": {
     "base_uri": "https://localhost:8080/"
    },
    "id": "wAF-r_EcPAeB",
    "outputId": "3cf6c97b-16e9-4a44-9a94-2fed88197ce1"
   },
   "outputs": [],
   "source": [
    "len(medical_data)"
   ]
  },
  {
   "cell_type": "code",
   "execution_count": null,
   "metadata": {
    "id": "HD40q406la8o"
   },
   "outputs": [],
   "source": [
    "## getting only the required data from the dataframe\n",
    "medical_data = medical_data[['transcription','medical_specialty']]\n",
    "medical_data.dropna(inplace=True)"
   ]
  },
  {
   "cell_type": "code",
   "execution_count": null,
   "metadata": {
    "colab": {
     "base_uri": "https://localhost:8080/"
    },
    "id": "fnWvYtLXleu1",
    "outputId": "77dd73d4-f74b-4bc7-8148-82951409b8f1"
   },
   "outputs": [],
   "source": [
    "len(medical_data)"
   ]
  },
  {
   "cell_type": "code",
   "execution_count": null,
   "metadata": {
    "id": "bz1Tvkx3F2R3"
   },
   "outputs": [],
   "source": [
    "## removing duplicate transcriptions\n",
    "medical_data = medical_data.drop_duplicates(subset=['transcription'], keep='first')"
   ]
  },
  {
   "cell_type": "code",
   "execution_count": null,
   "metadata": {
    "colab": {
     "base_uri": "https://localhost:8080/"
    },
    "id": "T4qrkzjmlllU",
    "outputId": "20ab7387-13f6-4b96-da9a-ac9e78d0cf94"
   },
   "outputs": [],
   "source": [
    "len(medical_data)"
   ]
  },
  {
   "cell_type": "code",
   "execution_count": null,
   "metadata": {
    "id": "WTKXdDaaCVUi"
   },
   "outputs": [],
   "source": [
    "## removing notes\n",
    "notes_list = [' Letters', ' SOAP / Chart / Progress Notes', ' Emergency Room Reports',\n",
    "              ' Discharge Summary', ' Consult - History and Phy.', ' Office Notes']\n",
    "medical_data = medical_data[~medical_data['medical_specialty'].isin(notes_list)]"
   ]
  },
  {
   "cell_type": "code",
   "execution_count": null,
   "metadata": {
    "colab": {
     "base_uri": "https://localhost:8080/"
    },
    "id": "N5JBJFSQBIJK",
    "outputId": "e830d0a2-9357-4de2-ac22-aee046b00c17"
   },
   "outputs": [],
   "source": [
    "len(medical_data)"
   ]
  },
  {
   "cell_type": "code",
   "execution_count": null,
   "metadata": {
    "colab": {
     "base_uri": "https://localhost:8080/"
    },
    "id": "DHN6245LF0UZ",
    "outputId": "bb2be113-ee2e-4031-ab05-e63d4b25731a"
   },
   "outputs": [],
   "source": [
    "## list of medical specialties present in the data\n",
    "medical_data['medical_specialty'].unique()"
   ]
  },
  {
   "cell_type": "code",
   "execution_count": null,
   "metadata": {
    "colab": {
     "base_uri": "https://localhost:8080/",
     "height": 1000
    },
    "id": "4mTNgdtHF1MK",
    "outputId": "507d0000-f58e-445b-ca0f-351b7f98ea5f"
   },
   "outputs": [],
   "source": [
    "## count for each specialty\n",
    "medical_data.groupby('medical_specialty').count()['transcription'].reset_index()"
   ]
  },
  {
   "cell_type": "code",
   "execution_count": null,
   "metadata": {
    "id": "vLrTw_Q74jDl"
   },
   "outputs": [],
   "source": [
    "#medical_data = medical_data.groupby('medical_specialty').filter(lambda x : len(x)>20)"
   ]
  },
  {
   "cell_type": "code",
   "execution_count": null,
   "metadata": {
    "colab": {
     "base_uri": "https://localhost:8080/",
     "height": 1000
    },
    "id": "4VYCuc6W41Qt",
    "outputId": "c82d18ec-f6df-434a-af23-81554685c8bf"
   },
   "outputs": [],
   "source": [
    "## merging ' Cosmetic / Plastic Surgery' and ' Dermatology' into one category\n",
    "medical_data = medical_data.replace(' Cosmetic / Plastic Surgery',' Dermatology')\n",
    "label_count = medical_data.groupby('medical_specialty').count()['transcription'].reset_index()\n",
    "label_count"
   ]
  },
  {
   "cell_type": "code",
   "execution_count": null,
   "metadata": {
    "colab": {
     "base_uri": "https://localhost:8080/",
     "height": 624
    },
    "id": "4HEo0XYs4_3X",
    "outputId": "4f929358-3bab-49d1-a716-5f03f496b59f"
   },
   "outputs": [],
   "source": [
    "## bar plot for the number of cases for each specialty\n",
    "plt.figure(figsize=(20,8))\n",
    "x = medical_data.medical_specialty.value_counts()\n",
    "sns.barplot(x=x.index,y=x)\n",
    "#plt.tight_layout()\n",
    "plt.xticks(\n",
    "    rotation=45,\n",
    "    horizontalalignment='right',\n",
    "    fontweight='light',\n",
    "    fontsize='x-large'\n",
    ")\n",
    "plt.gca().set_ylabel('samples')"
   ]
  },
  {
   "cell_type": "markdown",
   "metadata": {
    "id": "Lzmw7jmz5TuT"
   },
   "source": [
    "## Data Augmentation"
   ]
  },
  {
   "cell_type": "code",
   "execution_count": null,
   "metadata": {
    "colab": {
     "base_uri": "https://localhost:8080/"
    },
    "id": "8N1dJpPm4_8x",
    "outputId": "3b4ffb1f-b55c-478b-a862-7b9a20098cf0"
   },
   "outputs": [],
   "source": [
    "## data augmentation to increase the number of samples to balance the data\n",
    "aug = naw.SynonymAug(aug_src='wordnet',aug_max= 24)\n",
    "for i in range(0, len(label_count)-1):\n",
    "    aug_val = int(round(label_count.transcription.max() / label_count.transcription[i],0)) - 1\n",
    "    filtered_data = medical_data.loc[medical_data['medical_specialty'] == label_count.medical_specialty[i]]\n",
    "    for j in filtered_data.index:\n",
    "        temps=aug.augment(filtered_data.transcription[j],n=aug_val)\n",
    "        for sent in temps:\n",
    "            medical_data1 = {'transcription': sent, 'medical_specialty': label_count.medical_specialty[i]}\n",
    "            medical_data = medical_data.append(medical_data1, ignore_index = True)\n",
    "    #print(medical_data.shape)"
   ]
  },
  {
   "cell_type": "code",
   "execution_count": null,
   "metadata": {
    "colab": {
     "base_uri": "https://localhost:8080/",
     "height": 1000
    },
    "id": "G4lFCTv65eHY",
    "outputId": "52065a25-8fc5-4415-e4da-4841c9b6046f"
   },
   "outputs": [],
   "source": [
    "medical_data.groupby('medical_specialty').count()['transcription'].reset_index()"
   ]
  },
  {
   "cell_type": "code",
   "execution_count": null,
   "metadata": {
    "colab": {
     "base_uri": "https://localhost:8080/",
     "height": 624
    },
    "id": "9CDiKGS95o6O",
    "outputId": "b4715e6f-e20b-4802-813b-96ca065cb763",
    "scrolled": true
   },
   "outputs": [],
   "source": [
    "plt.figure(figsize=(20,8))\n",
    "x = medical_data.medical_specialty.value_counts()\n",
    "sns.barplot(x=x.index,y=x)\n",
    "#plt.tight_layout()\n",
    "plt.xticks(\n",
    "    rotation=45,\n",
    "    horizontalalignment='right',\n",
    "    fontweight='light',\n",
    "    fontsize='x-large'\n",
    ")\n",
    "plt.gca().set_ylabel('samples')"
   ]
  },
  {
   "cell_type": "markdown",
   "metadata": {},
   "source": [
    "## Text pre-processing"
   ]
  },
  {
   "cell_type": "code",
   "execution_count": null,
   "metadata": {
    "colab": {
     "base_uri": "https://localhost:8080/"
    },
    "id": "ULufziDG5o9W",
    "outputId": "73e186a7-975c-46f7-d374-e674665edb4a"
   },
   "outputs": [],
   "source": [
    "import nltk\n",
    "nltk.download('stopwords')"
   ]
  },
  {
   "cell_type": "code",
   "execution_count": null,
   "metadata": {
    "id": "BApx2Tk55o_x"
   },
   "outputs": [],
   "source": [
    "import regex as re\n",
    "import string\n",
    "\n",
    "from nltk.corpus import stopwords\n",
    "STOPWORDS = set(stopwords.words('english'))"
   ]
  },
  {
   "cell_type": "code",
   "execution_count": null,
   "metadata": {
    "id": "LFwEANRU5tf5"
   },
   "outputs": [],
   "source": [
    "def text_preprocessing(data):\n",
    "    data = str(data).lower()\n",
    "    data = re.sub('\\[.*?\\]', '', data)\n",
    "    data = re.sub('https?://\\S+|www\\.\\S+', '', data)\n",
    "    data = re.sub('<.*?>+', '', data)\n",
    "    data = re.sub('[%s]' % re.escape(string.punctuation), '', data)\n",
    "    data = re.sub('\\n', '', data)\n",
    "    data = re.sub('\\w*\\d\\w*', '', data)\n",
    "    return data\n",
    "\n",
    "def remove_stopwords(text):\n",
    "    return \" \".join([word for word in text.split() if word not in STOPWORDS])\n",
    "medical_data[\"transcription\"] = medical_data[\"transcription\"].apply(lambda text: text_preprocessing(text))\n",
    "medical_data[\"transcription\"] = medical_data[\"transcription\"].apply(lambda text: remove_stopwords(text))\n",
    "medical_data['tr_word_count']= medical_data['transcription'].apply(lambda x: len(str(x).split(' ')))"
   ]
  },
  {
   "cell_type": "code",
   "execution_count": null,
   "metadata": {
    "colab": {
     "base_uri": "https://localhost:8080/"
    },
    "id": "g2cjAK-j6H7_",
    "outputId": "1460b1be-23ac-4153-cbf3-369f767b8ece"
   },
   "outputs": [],
   "source": [
    "Y = pd.get_dummies(medical_data['medical_specialty']).values\n",
    "print('Shape of label tensor:', Y.shape)"
   ]
  },
  {
   "cell_type": "code",
   "execution_count": null,
   "metadata": {
    "colab": {
     "base_uri": "https://localhost:8080/",
     "height": 470
    },
    "id": "vtdwlxfv6H_l",
    "outputId": "4e68f4d8-b8f9-4220-d4bf-c77157236af2"
   },
   "outputs": [],
   "source": [
    "medical_data.hist(column = 'tr_word_count')"
   ]
  },
  {
   "cell_type": "code",
   "execution_count": null,
   "metadata": {
    "id": "G45Axzs66P57"
   },
   "outputs": [],
   "source": [
    "documents = []\n",
    "\n",
    "for doc in medical_data['transcription']:\n",
    "    documents.append(doc.split(' '))"
   ]
  },
  {
   "cell_type": "markdown",
   "metadata": {
    "id": "i8iJHB2c6QeV"
   },
   "source": [
    "## Word2Vec model"
   ]
  },
  {
   "cell_type": "code",
   "execution_count": null,
   "metadata": {
    "id": "UHGbrzbN6Qgg"
   },
   "outputs": [],
   "source": [
    "from gensim.models import Word2Vec\n",
    "# Training the Word2Vec model\n",
    "model = Word2Vec(documents, #Word list\n",
    "                   min_count=5, #Ignore all words with total frequency lower than this\n",
    "                   workers=4, #Number of CPUs\n",
    "                   vector_size=100,  #Embedding size\n",
    "                   window=5 #Maximum Distance between current and predicted word\n",
    "                  )"
   ]
  },
  {
   "cell_type": "code",
   "execution_count": null,
   "metadata": {
    "colab": {
     "base_uri": "https://localhost:8080/"
    },
    "id": "ekf9tYI96RGk",
    "outputId": "bb584f80-15fd-4673-c43c-a832ebc6ae9a"
   },
   "outputs": [],
   "source": [
    "#How many words in the model and how many features\n",
    "model.wv.vectors.shape"
   ]
  },
  {
   "cell_type": "code",
   "execution_count": null,
   "metadata": {
    "colab": {
     "base_uri": "https://localhost:8080/"
    },
    "id": "KIUFNsAg6f6t",
    "outputId": "3d8942a6-97b4-4c6b-c5ac-fd42dabde707"
   },
   "outputs": [],
   "source": [
    "all_words = model.wv.index_to_key               #key_to_index\n",
    "top_words = model.wv.index_to_key[0:5]\n",
    "top_words"
   ]
  },
  {
   "cell_type": "code",
   "execution_count": null,
   "metadata": {
    "colab": {
     "base_uri": "https://localhost:8080/"
    },
    "id": "w177ti9q6gBQ",
    "outputId": "3a7f5873-e88e-4962-d66b-8f194dae5b26"
   },
   "outputs": [],
   "source": [
    "print('Vocabulary size: %d' % len(all_words))"
   ]
  },
  {
   "cell_type": "code",
   "execution_count": null,
   "metadata": {
    "colab": {
     "base_uri": "https://localhost:8080/"
    },
    "id": "pt6g5QOG6oTO",
    "outputId": "75653d5a-f5c1-4324-835b-7c2f4c547e90"
   },
   "outputs": [],
   "source": [
    "# Most similar words\n",
    "similar = model.wv.most_similar('anesthetic')\n",
    "similar"
   ]
  },
  {
   "cell_type": "code",
   "execution_count": null,
   "metadata": {
    "id": "Afy5VujG6gen"
   },
   "outputs": [],
   "source": [
    "model.save(\"word2vec_Medical Specialty Classification6\")"
   ]
  },
  {
   "cell_type": "markdown",
   "metadata": {
    "id": "GBaPEyrQ6gq6"
   },
   "source": [
    "## Data split"
   ]
  },
  {
   "cell_type": "code",
   "execution_count": null,
   "metadata": {
    "id": "2VFp2yhD64fq"
   },
   "outputs": [],
   "source": [
    "from sklearn.model_selection import train_test_split\n",
    "X = medical_data['transcription']\n",
    "y = Y\n",
    "#train test validation split\n",
    "X_train, X_test, y_train, y_test = train_test_split(X, y, test_size=0.2, random_state=1, stratify = y)\n",
    "\n",
    "X_train, X_val, y_train, y_val = train_test_split(X_train, y_train, test_size=0.25, random_state=1, stratify = y_train)"
   ]
  },
  {
   "cell_type": "code",
   "execution_count": null,
   "metadata": {
    "colab": {
     "base_uri": "https://localhost:8080/"
    },
    "id": "NSIrHfCT6-nC",
    "outputId": "cd2057b7-5910-4ec0-cfb4-3cb4d85d88fc"
   },
   "outputs": [],
   "source": [
    "print(X_train.shape)\n",
    "print(X_test.shape)\n",
    "print(y_train.shape)\n",
    "print(y_test.shape)\n",
    "print(X_val.shape)\n",
    "print(y_val.shape)"
   ]
  },
  {
   "cell_type": "code",
   "execution_count": null,
   "metadata": {
    "id": "Pfh-Ku6K7EAi"
   },
   "outputs": [],
   "source": [
    "# building tokenizer to form a token for each word in each transcription\n",
    "\n",
    "from tensorflow.keras.preprocessing.text import Tokenizer\n",
    "from tensorflow.keras.preprocessing.sequence import pad_sequences\n",
    "from tensorflow.keras.layers import Embedding"
   ]
  },
  {
   "cell_type": "code",
   "execution_count": null,
   "metadata": {
    "id": "k_ONIqtI7LF8"
   },
   "outputs": [],
   "source": [
    "#Convert words to integers\n",
    "\n",
    "top_words = 10000 #reducing no of words to increase the processing speed\n",
    "\n",
    "tokenizer = Tokenizer(num_words=top_words)\n",
    "tokenizer.fit_on_texts(X_train)"
   ]
  },
  {
   "cell_type": "code",
   "execution_count": null,
   "metadata": {
    "id": "PqQMlW327EOt"
   },
   "outputs": [],
   "source": [
    "X_train = tokenizer.texts_to_sequences(X_train)\n",
    "X_test = tokenizer.texts_to_sequences(X_test)\n",
    "X_val = tokenizer.texts_to_sequences(X_val)"
   ]
  },
  {
   "cell_type": "code",
   "execution_count": null,
   "metadata": {
    "id": "UgwdeQGK7Egc"
   },
   "outputs": [],
   "source": [
    "# pad sequenc to make each transcription of the same size\n",
    "#taking 300  based on avg length of the transcription form histogram\n",
    "padding_max_len = 300\n",
    "\n",
    "X_train = pad_sequences(X_train, maxlen=padding_max_len, padding='post')\n",
    "X_test = pad_sequences(X_test, maxlen=padding_max_len, padding='post')\n",
    "X_val = pad_sequences(X_val, maxlen=padding_max_len, padding='post')"
   ]
  },
  {
   "cell_type": "code",
   "execution_count": null,
   "metadata": {
    "id": "X5RxXu_P71q0"
   },
   "outputs": [],
   "source": [
    "# Building embedding matrix from above Word2Vec model(pre trained model)\n",
    "\n",
    "word2vec_model = Word2Vec.load(\"word2vec_Medical Specialty Classification6\")  #loading the one created above"
   ]
  },
  {
   "cell_type": "code",
   "execution_count": null,
   "metadata": {
    "colab": {
     "base_uri": "https://localhost:8080/"
    },
    "id": "ghlPJi0_71wU",
    "outputId": "ef9f1a5d-f486-43b0-e11c-0ec71f5a0330"
   },
   "outputs": [],
   "source": [
    "word2vec_model.wv.vectors.shape"
   ]
  },
  {
   "cell_type": "code",
   "execution_count": null,
   "metadata": {
    "colab": {
     "base_uri": "https://localhost:8080/"
    },
    "id": "JGst6Wc171z9",
    "outputId": "9c8a033e-88e1-449f-97be-326cabdf3fcc"
   },
   "outputs": [],
   "source": [
    "#embedding length\n",
    "embedding_vector_length = word2vec_model.wv.vectors.shape[1]\n",
    "embedding_vector_length"
   ]
  },
  {
   "cell_type": "code",
   "execution_count": null,
   "metadata": {
    "id": "0BAPUlyZ7_jt"
   },
   "outputs": [],
   "source": [
    "# building embedding matrix\n",
    "#initailiazing matrix to all zeros\n",
    "\n",
    "embedding_matrix = np.zeros((top_words+1, embedding_vector_length))\n",
    "\n",
    "tokenizer.word_index.items()\n",
    "\n",
    "for word,i in sorted(tokenizer.word_index.items(), key = lambda x:x[1]):\n",
    "  if i > top_words:\n",
    "    break\n",
    "  if word in word2vec_model.wv.index_to_key:\n",
    "    #print(word)\n",
    "    embedding_vector = word2vec_model.wv[word]\n",
    "    #print(embedding_vector)\n",
    "    embedding_matrix[i] = embedding_vector\n",
    "    #print(embedding_matrix[i])"
   ]
  },
  {
   "cell_type": "code",
   "execution_count": null,
   "metadata": {
    "id": "61NaNmLP6-tK"
   },
   "outputs": [],
   "source": [
    "# Create an embedding layer\n",
    "#Output from Embedding is 3 dimension\n",
    "#batch_size x max_review_length x embedding_vector_length\n",
    "\n",
    "embedding_layer = Embedding(top_words+1, embedding_vector_length, weights=[embedding_matrix],\n",
    "                             input_length=padding_max_len,trainable=False)"
   ]
  },
  {
   "cell_type": "markdown",
   "metadata": {},
   "source": [
    "## Model Training"
   ]
  },
  {
   "cell_type": "code",
   "execution_count": null,
   "metadata": {
    "id": "m_rMSAAQ8Ky7"
   },
   "outputs": [],
   "source": [
    "from tensorflow.keras.models import Sequential\n",
    "from tensorflow.keras.layers import Dense,Dropout,Activation,BatchNormalization,Embedding,LSTM ,Bidirectional\n",
    "from tensorflow.keras import regularizers"
   ]
  },
  {
   "cell_type": "code",
   "execution_count": null,
   "metadata": {
    "colab": {
     "base_uri": "https://localhost:8080/"
    },
    "id": "pfE4Mw6-81j1",
    "outputId": "a7c26e53-3914-4d80-e4d6-efe53efb07fd"
   },
   "outputs": [],
   "source": [
    "model = Sequential()\n",
    "\n",
    "model.add(embedding_layer)\n",
    "\n",
    "model.add(Bidirectional(LSTM(32 , dropout=0.1, recurrent_dropout=0.1)))\n",
    "\n",
    "model.add(Dense(units=32,activation='softmax'))\n",
    "\n",
    "model.compile(optimizer='adam',loss='categorical_crossentropy', metrics=['accuracy'])\n",
    "print(model.summary())"
   ]
  },
  {
   "cell_type": "code",
   "execution_count": null,
   "metadata": {
    "colab": {
     "base_uri": "https://localhost:8080/"
    },
    "id": "oQs7KA5E_3Sm",
    "outputId": "075ec562-c6ac-4096-ffdf-4e33086f0f59"
   },
   "outputs": [],
   "source": [
    "model_history = model.fit(X_train, y_train, batch_size=100, epochs=15, validation_data=(X_val, y_val))"
   ]
  },
  {
   "cell_type": "code",
   "execution_count": null,
   "metadata": {
    "id": "a4Qo163gk34J"
   },
   "outputs": [],
   "source": [
    "model.save_weights('/content/gdrive/My Drive/lstm4_2.h5')"
   ]
  },
  {
   "cell_type": "code",
   "execution_count": null,
   "metadata": {
    "colab": {
     "base_uri": "https://localhost:8080/",
     "height": 472
    },
    "id": "7DGgvy-b_3Ye",
    "outputId": "1fdc1604-6cb4-4f71-f5bc-bd77a33ff866"
   },
   "outputs": [],
   "source": [
    "from matplotlib import pyplot as plt\n",
    "# visualise training history\n",
    "plt.plot(model_history.history['accuracy'])\n",
    "plt.plot(model_history.history['val_accuracy'])\n",
    "plt.title('model accuracy')\n",
    "plt.ylabel('accuracy')\n",
    "plt.xlabel('epoch')\n",
    "plt.legend(['train', 'test'], loc=\"lower right\")\n",
    "plt.show()"
   ]
  },
  {
   "cell_type": "code",
   "execution_count": null,
   "metadata": {
    "colab": {
     "base_uri": "https://localhost:8080/",
     "height": 472
    },
    "id": "rtSY_fZA_3cH",
    "outputId": "560cdc7f-3944-4098-a034-e29c0c2523fc",
    "scrolled": false
   },
   "outputs": [],
   "source": [
    "plt.plot(model_history.history['loss'])\n",
    "plt.plot(model_history.history['val_loss'])\n",
    "plt.title('model loss')\n",
    "plt.ylabel('loss')\n",
    "plt.xlabel('epoch')\n",
    "plt.legend(['train', 'test'], loc=\"lower right\")\n",
    "plt.show()"
   ]
  },
  {
   "cell_type": "markdown",
   "metadata": {},
   "source": [
    "## Model Evaluation"
   ]
  },
  {
   "cell_type": "code",
   "execution_count": null,
   "metadata": {
    "colab": {
     "base_uri": "https://localhost:8080/"
    },
    "id": "oBf6oQni_3gq",
    "outputId": "9a593327-9ee2-49d9-98be-ab5bd3fe7f67"
   },
   "outputs": [],
   "source": [
    "from sklearn import metrics\n",
    "y_pred = model.predict(X_test)\n",
    "print(metrics.classification_report(np.argmax(y_test, axis=1), np.argmax(y_pred, axis=1), target_names=medical_data['medical_specialty'].unique()))"
   ]
  },
  {
   "cell_type": "code",
   "execution_count": null,
   "metadata": {},
   "outputs": [],
   "source": []
  }
 ],
 "metadata": {
  "accelerator": "GPU",
  "colab": {
   "gpuType": "T4",
   "provenance": []
  },
  "kernelspec": {
   "display_name": "Python 3 (ipykernel)",
   "language": "python",
   "name": "python3"
  },
  "language_info": {
   "codemirror_mode": {
    "name": "ipython",
    "version": 3
   },
   "file_extension": ".py",
   "mimetype": "text/x-python",
   "name": "python",
   "nbconvert_exporter": "python",
   "pygments_lexer": "ipython3",
   "version": "3.9.7"
  }
 },
 "nbformat": 4,
 "nbformat_minor": 1
}
